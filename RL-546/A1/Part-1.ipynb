{
 "cells": [
  {
   "cell_type": "code",
   "execution_count": 1,
   "id": "e15e7025",
   "metadata": {},
   "outputs": [],
   "source": [
    "import numpy as np\n",
    "import gym\n",
    "from gym import spaces\n",
    "import matplotlib.pyplot as plt\n",
    "import sys,os\n",
    "import random"
   ]
  },
  {
   "cell_type": "markdown",
   "id": "c4b200a1",
   "metadata": {},
   "source": [
    "## 1.1 Deterministic environment"
   ]
  },
  {
   "cell_type": "raw",
   "id": "acb7932c",
   "metadata": {},
   "source": [
    "Define a deterministic environment, where P (s′, r|s, a) = {0, 1}. Run a random agent for at least 10 timesteps to show that the environment logic is defined correctly"
   ]
  },
  {
   "cell_type": "raw",
   "id": "2373f5a8",
   "metadata": {},
   "source": [
    "Environment requirements:\n",
    "• Min number of states: 12 \n",
    "• Min number of actions: 4\n",
    "• Min number of rewards: 4"
   ]
  },
  {
   "cell_type": "raw",
   "id": "9aa724a8",
   "metadata": {},
   "source": [
    "1. States = 16\n",
    "0 1 2 3\n",
    "4 5 6 7\n",
    "8 9 10 11\n",
    "12 13 14 15"
   ]
  },
  {
   "cell_type": "raw",
   "id": "a599a20c",
   "metadata": {},
   "source": [
    "2. Actions = 4\n",
    "• 0 --> Left \n",
    "• 1 --> North\n",
    "• 2 --> Right\n",
    "• 3 --> South"
   ]
  },
  {
   "cell_type": "raw",
   "id": "2aba0d62",
   "metadata": {},
   "source": [
    "3. Rewards = 4\n",
    "==>at pos\n",
    "•3(0,3) --> 3\n",
    "•8(2,0) --> -5\n",
    "•11(2,3) --> -3\n",
    "•15(3,3) --> 10"
   ]
  },
  {
   "cell_type": "code",
   "execution_count": 2,
   "id": "e5387279",
   "metadata": {
    "slideshow": {
     "slide_type": "slide"
    }
   },
   "outputs": [],
   "source": [
    "class GridEnvironment(gym.Env):\n",
    "    def __init__(self):\n",
    "        # Initializes the class\n",
    "        # Define action and observation space\n",
    "        \n",
    "        self.observation_space = spaces.Discrete(16)\n",
    "        self.action_space = spaces.Discrete(4)\n",
    "        self.reward_space = spaces.Discrete(16)\n",
    "        self.max_timesteps = 15\n",
    "        #self.total_reward = 0\n",
    "        self.rewards = {\n",
    "            (0,3):3, #3\n",
    "            (2,0):-5, #8\n",
    "            (2,3):-3, #11\n",
    "            (3,3):10 #15\n",
    "        }\n",
    "        #pass\n",
    "        \n",
    "    def step(self,action):\n",
    "        \n",
    "        try:\n",
    "            # Executes one timestep within the environment\n",
    "            # Input to the function is an action\n",
    "\n",
    "            print(\"current-position: \",self.agent_pos)\n",
    "            self.change_position(action)\n",
    "  \n",
    "            #change state based on move made\n",
    "            self.agent_pos = np.clip(self.agent_pos, 0, 3)\n",
    "            self.state = self.make_grid()\n",
    "            observation = self.state.flatten()\n",
    "\n",
    "            #collect immediate rewards existing. change rewards after collecting\n",
    "            reward = self.get_reward()\n",
    "            \n",
    "            #check if ur in terminal state\n",
    "            if (self.agent_pos == self.goal_pos).all():\n",
    "                done = True\n",
    "            \n",
    "            #check-timestep\n",
    "            self.timestep += 1\n",
    "            done = True if self.timestep >= self.max_timesteps else False\n",
    "\n",
    "            #pass any useful info needed\n",
    "            info = {}\n",
    "            return observation, reward, done, info\n",
    "        \n",
    "        except Exception as e:\n",
    "            print(e)\n",
    "            traceback.print_exc()\n",
    "\n",
    "    def reset(self):\n",
    "        # Resets the state of the environment to an initial state\n",
    "        \n",
    "        self.timestep = 0 \n",
    "        self.agent_pos = [0, 0] #start-index\n",
    "        self.goal_pos = [3, 3] #end-index\n",
    "        self.state = self.make_grid() #create grid with given positions\n",
    "        observation = self.state.flatten() #flatten grid array\n",
    "        self.rewards = {\n",
    "            (0,3):3, #\n",
    "            (2,0):-5, #8\n",
    "            (2,3):-2, #11\n",
    "            (3,3):10 #15\n",
    "        }\n",
    "        return observation\n",
    "        #pass\n",
    "        \n",
    "        \n",
    "    def render(self):\n",
    "        # Visualizes the environment\n",
    "        # Any form like vector representation or visualizing using matplotlib will be sufficient\n",
    "        plt.imshow(self.state)\n",
    "        pass\n",
    "    \n",
    "    ##helper functions to handle grid-reset and rewards\n",
    "    \n",
    "    \n",
    "    def change_position(self,action):\n",
    "        #get moving-indices\n",
    "        if action == 3: #move south\n",
    "            self.agent_pos[0] += 1\n",
    "        elif action == 1: #move north\n",
    "            self.agent_pos[0] -= 1\n",
    "        elif action == 2: #move right\n",
    "            self.agent_pos[1] += 1\n",
    "        elif action == 0: #move left\n",
    "            self.agent_pos[1] -= 1\n",
    "        else:\n",
    "            #pass #add logic for other actions\n",
    "            return -1\n",
    "    \n",
    "    def make_grid(self):\n",
    "        try:\n",
    "            state = np.ones((4, 4)) #create grid \n",
    "            state[tuple(self.agent_pos)] = 0.8 #color-initial state\n",
    "            state[tuple(self.goal_pos)] = 0.9 #color final-state\n",
    "            return state\n",
    "        \n",
    "        except Exception as e:\n",
    "            print(e)\n",
    "            traceback.print_exc()\n",
    "\n",
    "    \n",
    "    def get_reward(self):\n",
    "        try:\n",
    "            if tuple(self.agent_pos) in self.rewards.keys():\n",
    "                rew = self.rewards[tuple(self.agent_pos)]\n",
    "                if rew > 0:\n",
    "                    self.rewards[tuple(self.agent_pos)] = 0                \n",
    "                return rew\n",
    "            return 0\n",
    "        \n",
    "        except Exception as e:\n",
    "            print(e)\n",
    "            traceback.print_exc()\n"
   ]
  },
  {
   "cell_type": "code",
   "execution_count": 3,
   "id": "afbba17a",
   "metadata": {},
   "outputs": [
    {
     "name": "stdout",
     "output_type": "stream",
     "text": [
      "{'observation_space': Discrete(16), 'action_space': Discrete(4), 'reward_space': Discrete(16), 'max_timesteps': 15, 'rewards': {(0, 3): 3, (2, 0): -5, (2, 3): -3, (3, 3): 10}}\n"
     ]
    }
   ],
   "source": [
    "env = GridEnvironment()\n",
    "print(env.__dict__)"
   ]
  },
  {
   "cell_type": "code",
   "execution_count": 4,
   "id": "6a37c5b2",
   "metadata": {},
   "outputs": [
    {
     "data": {
      "image/png": "[encoded data removed]",
      "text/plain": [
       "<Figure size 432x288 with 1 Axes>"
      ]
     },
     "metadata": {
      "needs_background": "light"
     },
     "output_type": "display_data"
    }
   ],
   "source": [
    "env.reset()\n",
    "env.render()"
   ]
  },
  {
   "cell_type": "code",
   "execution_count": 12,
   "id": "5460aaeb",
   "metadata": {
    "collapsed": true
   },
   "outputs": [
    {
     "name": "stdout",
     "output_type": "stream",
     "text": [
      "current-position:  [0, 0]\n",
      "action:  2 reward:  0 \n",
      "\n",
      "current-position:  [0 1]\n",
      "action:  3 reward:  0 \n",
      "\n",
      "current-position:  [1 1]\n",
      "action:  0 reward:  0 \n",
      "\n",
      "current-position:  [1 0]\n",
      "action:  0 reward:  0 \n",
      "\n",
      "current-position:  [1 0]\n",
      "action:  3 reward:  -5 \n",
      "\n",
      "current-position:  [2 0]\n",
      "action:  3 reward:  0 \n",
      "\n",
      "current-position:  [3 0]\n",
      "action:  2 reward:  0 \n",
      "\n",
      "current-position:  [3 1]\n",
      "action:  0 reward:  0 \n",
      "\n",
      "current-position:  [3 0]\n",
      "action:  0 reward:  0 \n",
      "\n",
      "current-position:  [3 0]\n",
      "action:  3 reward:  0 \n",
      "\n",
      "current-position:  [3 0]\n",
      "action:  0 reward:  0 \n",
      "\n",
      "current-position:  [3 0]\n",
      "action:  3 reward:  0 \n",
      "\n",
      "current-position:  [3 0]\n",
      "action:  3 reward:  0 \n",
      "\n",
      "current-position:  [3 0]\n",
      "action:  3 reward:  0 \n",
      "\n",
      "current-position:  [3 0]\n",
      "action:  3 reward:  0 \n",
      "\n",
      "total-reward:  -5\n"
     ]
    },
    {
     "data": {
      "image/png": "[encoded data removed]",
      "text/plain": [
       "<Figure size 432x288 with 1 Axes>"
      ]
     },
     "metadata": {
      "needs_background": "light"
     },
     "output_type": "display_data"
    }
   ],
   "source": [
    "def main():\n",
    "    try:\n",
    "        \n",
    "        env = GridEnvironment()\n",
    "        env.reset()\n",
    "        \n",
    "        total_reward = 0\n",
    "        action_space = list(np.arange(0,4))\n",
    "        actions = random.choices(action_space,k=50, weights=(0.25,0.25,0.25,0.25))   \n",
    "        for action in actions:\n",
    "            observation, reward, done, _ = env.step(action)\n",
    "            print(\"action: \",action,\"reward: \",reward,\"\\n\")\n",
    "            total_reward += reward\n",
    "            env.render()\n",
    "            if done == 1:\n",
    "                env.reset()\n",
    "                break\n",
    "        print(\"total-reward: \",total_reward)\n",
    "    except Exception as e:\n",
    "            print(e)\n",
    "            traceback.print_exc()\n",
    "main()      "
   ]
  },
  {
   "cell_type": "code",
   "execution_count": null,
   "id": "4951d897",
   "metadata": {},
   "outputs": [],
   "source": []
  },
  {
   "cell_type": "markdown",
   "id": "0dc4d352",
   "metadata": {},
   "source": [
    "## 1.2 Stochastic environment"
   ]
  },
  {
   "cell_type": "raw",
   "id": "cf7ff57b",
   "metadata": {},
   "source": [
    "Define a stochastic environment, where s′,r P(s′,r|s,a) = 1. \n",
    "A modified version of the environment defined in Part 1.1 should be used. \n",
    "Run a random agent for at least 10 timesteps to show that the environment logic is defined correctly"
   ]
  },
  {
   "cell_type": "raw",
   "id": "4e3feb8e",
   "metadata": {},
   "source": [
    "perform actions stochastically\n",
    "•0 --> [(LEFT:0.8, SAME:0.2)]\n",
    "•1 --> [(NORTH:0.7, SOUTH:0.3)]\n",
    "•2 --> [(RIGHT:0.9, SAME:0.1)]\n",
    "•3 --> [(SOUTH:0.5, SAME:0.25,NORTH:0.25)]"
   ]
  },
  {
   "cell_type": "code",
   "execution_count": 7,
   "id": "925edd01",
   "metadata": {},
   "outputs": [],
   "source": [
    "class GridEnvironment_stochastic(GridEnvironment):\n",
    "    \n",
    "    #change-posittions-randomly\n",
    "    def change_position(self,action):\n",
    "        #get moving-indices\n",
    "        if action == 0: \n",
    "            x = random.choices([0,1],k=1, weights=(0.2,0.8))\n",
    "            self.agent_pos[1] = -x[0]\n",
    "            \n",
    "        elif action == 1: \n",
    "            x = random.choices([-1,1],k=1, weights=(0.3,0.7))   \n",
    "            self.agent_pos[0] += x[0]\n",
    "            \n",
    "        elif action == 2: \n",
    "            x = random.choices([0,1],k=1, weights=(0.1,0.9))   \n",
    "            self.agent_pos[1] += x[0]\n",
    "            \n",
    "        elif action == 3:\n",
    "            x = random.choices([-1,0,1],k=1, weights=(0.25,0.25,0.5))   \n",
    "            self.agent_pos[0] -= x[0]\n",
    "        else:\n",
    "            #pass #add logic for other actions\n",
    "            return -1\n"
   ]
  },
  {
   "cell_type": "code",
   "execution_count": 8,
   "id": "c55647b5",
   "metadata": {
    "collapsed": true
   },
   "outputs": [
    {
     "data": {
      "image/png": "[encoded data removed]",
      "text/plain": [
       "<Figure size 432x288 with 1 Axes>"
      ]
     },
     "metadata": {
      "needs_background": "light"
     },
     "output_type": "display_data"
    }
   ],
   "source": [
    "env = GridEnvironment_stochastic()\n",
    "env.reset()\n",
    "env.render()"
   ]
  },
  {
   "cell_type": "code",
   "execution_count": 10,
   "id": "92bf3071",
   "metadata": {
    "collapsed": true
   },
   "outputs": [
    {
     "name": "stdout",
     "output_type": "stream",
     "text": [
      "current-position:  [0, 0]\n",
      "action:  3 reward:  0 \n",
      "\n",
      "current-position:  [0 0]\n",
      "action:  3 reward:  0 \n",
      "\n",
      "current-position:  [1 0]\n",
      "action:  1 reward:  -5 \n",
      "\n",
      "current-position:  [2 0]\n",
      "action:  3 reward:  0 \n",
      "\n",
      "current-position:  [3 0]\n",
      "action:  3 reward:  -5 \n",
      "\n",
      "current-position:  [2 0]\n",
      "action:  3 reward:  0 \n",
      "\n",
      "current-position:  [3 0]\n",
      "action:  0 reward:  0 \n",
      "\n",
      "current-position:  [3 0]\n",
      "action:  3 reward:  -5 \n",
      "\n",
      "current-position:  [2 0]\n",
      "action:  0 reward:  -5 \n",
      "\n",
      "current-position:  [2 0]\n",
      "action:  3 reward:  0 \n",
      "\n",
      "current-position:  [3 0]\n",
      "action:  3 reward:  0 \n",
      "\n",
      "current-position:  [3 0]\n",
      "action:  3 reward:  0 \n",
      "\n",
      "current-position:  [3 0]\n",
      "action:  0 reward:  0 \n",
      "\n",
      "current-position:  [3 0]\n",
      "action:  2 reward:  0 \n",
      "\n",
      "current-position:  [3 1]\n",
      "action:  3 reward:  0 \n",
      "\n",
      "total-reward:  -20\n"
     ]
    },
    {
     "data": {
      "image/png": "[encoded data removed]",
      "text/plain": [
       "<Figure size 432x288 with 1 Axes>"
      ]
     },
     "metadata": {
      "needs_background": "light"
     },
     "output_type": "display_data"
    }
   ],
   "source": [
    "def main():\n",
    "    try:\n",
    "        \n",
    "        env = GridEnvironment_stochastic()\n",
    "        env.reset()\n",
    "        \n",
    "        total_reward = 0\n",
    "        action_space = list(np.arange(0,4))\n",
    "        actions = random.choices(action_space,k=30, weights=(0.1,0.1,0.4,0.4))   \n",
    "        for action in actions:\n",
    "            observation, reward, done, _ = env.step(action)\n",
    "            print(\"action: \",action,\"reward: \",reward,\"\\n\")\n",
    "            total_reward += reward\n",
    "            env.render()\n",
    "            if done == 1:\n",
    "                env.reset()\n",
    "                break\n",
    "        print(\"total-reward: \",total_reward)\n",
    "    except Exception as e:\n",
    "            print(e)\n",
    "            traceback.print_exc()\n",
    "main()      "
   ]
  },
  {
   "cell_type": "code",
   "execution_count": null,
   "id": "b4152255",
   "metadata": {},
   "outputs": [],
   "source": []
  },
  {
   "cell_type": "code",
   "execution_count": null,
   "id": "feb9598e",
   "metadata": {},
   "outputs": [],
   "source": []
  }
 ],
 "metadata": {
  "kernelspec": {
   "display_name": "Python 3 (ipykernel)",
   "language": "python",
   "name": "python3"
  },
  "language_info": {
   "codemirror_mode": {
    "name": "ipython",
    "version": 3
   },
   "file_extension": ".py",
   "mimetype": "text/x-python",
   "name": "python",
   "nbconvert_exporter": "python",
   "pygments_lexer": "ipython3",
   "version": "3.10.6"
  }
 },
 "nbformat": 4,
 "nbformat_minor": 5
}
